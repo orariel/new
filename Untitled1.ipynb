{
 "cells": [
  {
   "cell_type": "code",
   "execution_count": 3,
   "id": "e1beab87",
   "metadata": {},
   "outputs": [
    {
     "name": "stdout",
     "output_type": "stream",
     "text": [
      "Collecting pyvista\n",
      "  Using cached pyvista-0.33.2-py3-none-any.whl (1.4 MB)\n",
      "Requirement already satisfied: imageio in c:\\users\\or\\anaconda3\\lib\\site-packages (from pyvista) (2.9.0)\n",
      "Requirement already satisfied: pillow in c:\\users\\or\\anaconda3\\lib\\site-packages (from pyvista) (8.4.0)\n",
      "Requirement already satisfied: appdirs in c:\\users\\or\\anaconda3\\lib\\site-packages (from pyvista) (1.4.4)\n",
      "Collecting scooby>=0.5.1\n",
      "  Using cached scooby-0.5.11-py3-none-any.whl (14 kB)\n",
      "Requirement already satisfied: numpy in c:\\users\\or\\anaconda3\\lib\\site-packages (from pyvista) (1.20.3)\n",
      "Collecting vtk\n",
      "  Downloading vtk-9.1.0-cp39-cp39-win_amd64.whl (44.7 MB)\n",
      "Requirement already satisfied: matplotlib>=2.0.0 in c:\\users\\or\\anaconda3\\lib\\site-packages (from vtk->pyvista) (3.4.3)\n",
      "Collecting wslink>=1.0.4\n",
      "  Using cached wslink-1.3.1-py3-none-any.whl (21 kB)\n",
      "Requirement already satisfied: kiwisolver>=1.0.1 in c:\\users\\or\\anaconda3\\lib\\site-packages (from matplotlib>=2.0.0->vtk->pyvista) (1.3.1)\n",
      "Requirement already satisfied: pyparsing>=2.2.1 in c:\\users\\or\\anaconda3\\lib\\site-packages (from matplotlib>=2.0.0->vtk->pyvista) (3.0.4)\n",
      "Requirement already satisfied: cycler>=0.10 in c:\\users\\or\\anaconda3\\lib\\site-packages (from matplotlib>=2.0.0->vtk->pyvista) (0.10.0)\n",
      "Requirement already satisfied: python-dateutil>=2.7 in c:\\users\\or\\anaconda3\\lib\\site-packages (from matplotlib>=2.0.0->vtk->pyvista) (2.8.2)\n",
      "Requirement already satisfied: six in c:\\users\\or\\anaconda3\\lib\\site-packages (from cycler>=0.10->matplotlib>=2.0.0->vtk->pyvista) (1.16.0)\n",
      "Collecting aiohttp\n",
      "  Downloading aiohttp-3.8.1-cp39-cp39-win_amd64.whl (554 kB)\n",
      "Collecting multidict<7.0,>=4.5\n",
      "  Downloading multidict-6.0.2-cp39-cp39-win_amd64.whl (28 kB)\n",
      "Collecting yarl<2.0,>=1.0\n",
      "  Downloading yarl-1.7.2-cp39-cp39-win_amd64.whl (122 kB)\n",
      "Collecting aiosignal>=1.1.2\n",
      "  Using cached aiosignal-1.2.0-py3-none-any.whl (8.2 kB)\n",
      "Collecting async-timeout<5.0,>=4.0.0a3\n",
      "  Using cached async_timeout-4.0.2-py3-none-any.whl (5.8 kB)\n",
      "Collecting frozenlist>=1.1.1\n",
      "  Downloading frozenlist-1.3.0-cp39-cp39-win_amd64.whl (33 kB)\n",
      "Requirement already satisfied: attrs>=17.3.0 in c:\\users\\or\\anaconda3\\lib\\site-packages (from aiohttp->wslink>=1.0.4->vtk->pyvista) (21.2.0)\n",
      "Requirement already satisfied: charset-normalizer<3.0,>=2.0 in c:\\users\\or\\anaconda3\\lib\\site-packages (from aiohttp->wslink>=1.0.4->vtk->pyvista) (2.0.4)\n",
      "Requirement already satisfied: idna>=2.0 in c:\\users\\or\\anaconda3\\lib\\site-packages (from yarl<2.0,>=1.0->aiohttp->wslink>=1.0.4->vtk->pyvista) (3.2)\n",
      "Installing collected packages: multidict, frozenlist, yarl, async-timeout, aiosignal, aiohttp, wslink, vtk, scooby, pyvista\n",
      "Successfully installed aiohttp-3.8.1 aiosignal-1.2.0 async-timeout-4.0.2 frozenlist-1.3.0 multidict-6.0.2 pyvista-0.33.2 scooby-0.5.11 vtk-9.1.0 wslink-1.3.1 yarl-1.7.2\n",
      "Note: you may need to restart the kernel to use updated packages.\n"
     ]
    }
   ],
   "source": [
    "pip install pyvista\n"
   ]
  },
  {
   "cell_type": "code",
   "execution_count": null,
   "id": "60859207",
   "metadata": {},
   "outputs": [],
   "source": []
  },
  {
   "cell_type": "code",
   "execution_count": 4,
   "id": "67c6ca26",
   "metadata": {},
   "outputs": [],
   "source": [
    "import pyvista as pv\n",
    "\n",
    "import numpy as np\n"
   ]
  },
  {
   "cell_type": "code",
   "execution_count": 5,
   "id": "8c936b8b",
   "metadata": {},
   "outputs": [],
   "source": [
    "plot = pv.Plotter()\n",
    "teeth = pv.read('STLS/teeth_gum_filled.stl')\n",
    "teeth.rotate_x(10,inplace=False)\n",
    "plot.add_mesh(teeth)\n",
    "box_cor = np.asarray(teeth.bounds)"
   ]
  },
  {
   "cell_type": "code",
   "execution_count": 6,
   "id": "419cd967",
   "metadata": {},
   "outputs": [
    {
     "data": {
      "text/html": [
       "\n",
       "<table>\n",
       "<tr><th>PolyData</th><th>Information</th></tr>\n",
       "<tr><td>N Cells</td><td>520052</td></tr>\n",
       "<tr><td>N Points</td><td>260024</td></tr>\n",
       "<tr><td>X Bounds</td><td>-2.972e+01, 2.849e+01</td></tr>\n",
       "<tr><td>Y Bounds</td><td>-2.998e+01, 1.275e+01</td></tr>\n",
       "<tr><td>Z Bounds</td><td>1.664e+01, 2.895e+01</td></tr>\n",
       "<tr><td>N Arrays</td><td>0</td></tr>\n",
       "</table>\n",
       "\n"
      ],
      "text/plain": [
       "PolyData (0x17ef389b100)\n",
       "  N Cells:\t520052\n",
       "  N Points:\t260024\n",
       "  X Bounds:\t-2.972e+01, 2.849e+01\n",
       "  Y Bounds:\t-2.998e+01, 1.275e+01\n",
       "  Z Bounds:\t1.664e+01, 2.895e+01\n",
       "  N Arrays:\t0"
      ]
     },
     "execution_count": 6,
     "metadata": {},
     "output_type": "execute_result"
    }
   ],
   "source": [
    "teeth"
   ]
  },
  {
   "cell_type": "code",
   "execution_count": 1,
   "id": "cfe7404b",
   "metadata": {},
   "outputs": [
    {
     "ename": "NameError",
     "evalue": "name 'box_cor' is not defined",
     "output_type": "error",
     "traceback": [
      "\u001b[1;31m---------------------------------------------------------------------------\u001b[0m",
      "\u001b[1;31mNameError\u001b[0m                                 Traceback (most recent call last)",
      "\u001b[1;32m~\\AppData\\Local\\Temp/ipykernel_11128/1424852368.py\u001b[0m in \u001b[0;36m<module>\u001b[1;34m\u001b[0m\n\u001b[1;32m----> 1\u001b[1;33m \u001b[0mbox_cor\u001b[0m\u001b[1;33m[\u001b[0m\u001b[1;36m2\u001b[0m\u001b[1;33m]\u001b[0m \u001b[1;33m=\u001b[0m \u001b[0mbox_cor\u001b[0m\u001b[1;33m[\u001b[0m\u001b[1;36m2\u001b[0m\u001b[1;33m]\u001b[0m \u001b[1;33m-\u001b[0m \u001b[1;36m5\u001b[0m\u001b[1;33m\u001b[0m\u001b[1;33m\u001b[0m\u001b[0m\n\u001b[0m\u001b[0;32m      2\u001b[0m \u001b[0mbox_cor\u001b[0m\u001b[1;33m[\u001b[0m\u001b[1;36m0\u001b[0m\u001b[1;33m]\u001b[0m \u001b[1;33m=\u001b[0m \u001b[0mbox_cor\u001b[0m\u001b[1;33m[\u001b[0m\u001b[1;36m0\u001b[0m\u001b[1;33m]\u001b[0m \u001b[1;33m-\u001b[0m \u001b[1;36m5\u001b[0m\u001b[1;33m\u001b[0m\u001b[1;33m\u001b[0m\u001b[0m\n\u001b[0;32m      3\u001b[0m \u001b[1;33m\u001b[0m\u001b[0m\n\u001b[0;32m      4\u001b[0m \u001b[0mbox\u001b[0m \u001b[1;33m=\u001b[0m \u001b[0mpv\u001b[0m\u001b[1;33m.\u001b[0m\u001b[0mBox\u001b[0m\u001b[1;33m(\u001b[0m\u001b[0mbounds\u001b[0m\u001b[1;33m=\u001b[0m\u001b[0mbox_cor\u001b[0m\u001b[1;33m,\u001b[0m \u001b[0mlevel\u001b[0m\u001b[1;33m=\u001b[0m\u001b[1;36m0\u001b[0m\u001b[1;33m)\u001b[0m\u001b[1;33m\u001b[0m\u001b[1;33m\u001b[0m\u001b[0m\n\u001b[0;32m      5\u001b[0m \u001b[0mbox_points\u001b[0m \u001b[1;33m=\u001b[0m \u001b[0mnp\u001b[0m\u001b[1;33m.\u001b[0m\u001b[0masarray\u001b[0m\u001b[1;33m(\u001b[0m\u001b[0mbox\u001b[0m\u001b[1;33m.\u001b[0m\u001b[0mpoints\u001b[0m\u001b[1;33m)\u001b[0m\u001b[1;33m\u001b[0m\u001b[1;33m\u001b[0m\u001b[0m\n",
      "\u001b[1;31mNameError\u001b[0m: name 'box_cor' is not defined"
     ]
    }
   ],
   "source": [
    "box_cor[2] = box_cor[2] - 5\n",
    "box_cor[0] = box_cor[0] - 5\n",
    "\n",
    "box = pv.Box(bounds=box_cor, level=0)\n",
    "box_points = np.asarray(box.points)\n",
    "box.save('b-box.stl')\n",
    "box = pv.read('b-box.stl')\n",
    "plot.add_mesh(box)\n",
    "teeth_center = np.asarray(teeth.center)\n",
    "\n",
    "teeth.translate((-2, -3, box_cor[3]-5),inplace=True)\n"
   ]
  },
  {
   "cell_type": "code",
   "execution_count": null,
   "id": "054cd5a3",
   "metadata": {},
   "outputs": [],
   "source": []
  },
  {
   "cell_type": "code",
   "execution_count": null,
   "id": "c4afa1dc",
   "metadata": {},
   "outputs": [],
   "source": []
  }
 ],
 "metadata": {
  "kernelspec": {
   "display_name": "Python 3 (ipykernel)",
   "language": "python",
   "name": "python3"
  },
  "language_info": {
   "codemirror_mode": {
    "name": "ipython",
    "version": 3
   },
   "file_extension": ".py",
   "mimetype": "text/x-python",
   "name": "python",
   "nbconvert_exporter": "python",
   "pygments_lexer": "ipython3",
   "version": "3.9.7"
  }
 },
 "nbformat": 4,
 "nbformat_minor": 5
}
