{
 "cells": [
  {
   "cell_type": "code",
   "execution_count": 4,
   "id": "59e0ce48",
   "metadata": {},
   "outputs": [
    {
     "name": "stdout",
     "output_type": "stream",
     "text": [
      "Collecting open3d\n",
      "  Downloading open3d-0.14.1-cp39-cp39-win_amd64.whl (59.9 MB)\n",
      "Requirement already satisfied: numpy>=1.18.0 in c:\\users\\or\\anaconda3\\lib\\site-packages (from open3d) (1.20.3)\n",
      "Collecting jupyter-packaging~=0.10\n",
      "  Using cached jupyter_packaging-0.11.1-py2.py3-none-any.whl (14 kB)\n",
      "Requirement already satisfied: setuptools>=40.8.0 in c:\\users\\or\\anaconda3\\lib\\site-packages (from open3d) (58.0.4)\n",
      "Requirement already satisfied: jupyterlab==3.*,>=3.0.0 in c:\\users\\or\\anaconda3\\lib\\site-packages (from open3d) (3.2.1)\n",
      "Requirement already satisfied: wheel>=0.36.0 in c:\\users\\or\\anaconda3\\lib\\site-packages (from open3d) (0.37.0)\n",
      "Requirement already satisfied: pygments>=2.7.4 in c:\\users\\or\\anaconda3\\lib\\site-packages (from open3d) (2.10.0)\n",
      "Requirement already satisfied: ipywidgets>=7.6.0 in c:\\users\\or\\anaconda3\\lib\\site-packages (from open3d) (7.6.5)\n",
      "Requirement already satisfied: jupyter-server~=1.4 in c:\\users\\or\\anaconda3\\lib\\site-packages (from jupyterlab==3.*,>=3.0.0->open3d) (1.4.1)\n",
      "Requirement already satisfied: jupyterlab-server~=2.3 in c:\\users\\or\\anaconda3\\lib\\site-packages (from jupyterlab==3.*,>=3.0.0->open3d) (2.8.2)\n",
      "Requirement already satisfied: jupyter-core in c:\\users\\or\\anaconda3\\lib\\site-packages (from jupyterlab==3.*,>=3.0.0->open3d) (4.8.1)\n",
      "Requirement already satisfied: tornado>=6.1.0 in c:\\users\\or\\anaconda3\\lib\\site-packages (from jupyterlab==3.*,>=3.0.0->open3d) (6.1)\n",
      "Requirement already satisfied: jinja2>=2.1 in c:\\users\\or\\anaconda3\\lib\\site-packages (from jupyterlab==3.*,>=3.0.0->open3d) (2.11.3)\n",
      "Requirement already satisfied: ipython in c:\\users\\or\\anaconda3\\lib\\site-packages (from jupyterlab==3.*,>=3.0.0->open3d) (7.29.0)\n",
      "Requirement already satisfied: nbclassic~=0.2 in c:\\users\\or\\anaconda3\\lib\\site-packages (from jupyterlab==3.*,>=3.0.0->open3d) (0.2.6)\n",
      "Requirement already satisfied: packaging in c:\\users\\or\\anaconda3\\lib\\site-packages (from jupyterlab==3.*,>=3.0.0->open3d) (21.0)\n",
      "Requirement already satisfied: widgetsnbextension~=3.5.0 in c:\\users\\or\\anaconda3\\lib\\site-packages (from ipywidgets>=7.6.0->open3d) (3.5.1)\n",
      "Requirement already satisfied: ipython-genutils~=0.2.0 in c:\\users\\or\\anaconda3\\lib\\site-packages (from ipywidgets>=7.6.0->open3d) (0.2.0)\n",
      "Requirement already satisfied: nbformat>=4.2.0 in c:\\users\\or\\anaconda3\\lib\\site-packages (from ipywidgets>=7.6.0->open3d) (5.1.3)\n",
      "Requirement already satisfied: traitlets>=4.3.1 in c:\\users\\or\\anaconda3\\lib\\site-packages (from ipywidgets>=7.6.0->open3d) (5.1.0)\n",
      "Requirement already satisfied: jupyterlab-widgets>=1.0.0 in c:\\users\\or\\anaconda3\\lib\\site-packages (from ipywidgets>=7.6.0->open3d) (1.0.0)\n",
      "Requirement already satisfied: ipykernel>=4.5.1 in c:\\users\\or\\anaconda3\\lib\\site-packages (from ipywidgets>=7.6.0->open3d) (6.4.1)\n",
      "Requirement already satisfied: jupyter-client<8.0 in c:\\users\\or\\anaconda3\\lib\\site-packages (from ipykernel>=4.5.1->ipywidgets>=7.6.0->open3d) (6.1.12)\n",
      "Requirement already satisfied: matplotlib-inline<0.2.0,>=0.1.0 in c:\\users\\or\\anaconda3\\lib\\site-packages (from ipykernel>=4.5.1->ipywidgets>=7.6.0->open3d) (0.1.2)\n",
      "Requirement already satisfied: debugpy<2.0,>=1.0.0 in c:\\users\\or\\anaconda3\\lib\\site-packages (from ipykernel>=4.5.1->ipywidgets>=7.6.0->open3d) (1.4.1)\n",
      "Requirement already satisfied: pickleshare in c:\\users\\or\\anaconda3\\lib\\site-packages (from ipython->jupyterlab==3.*,>=3.0.0->open3d) (0.7.5)\n",
      "Requirement already satisfied: jedi>=0.16 in c:\\users\\or\\anaconda3\\lib\\site-packages (from ipython->jupyterlab==3.*,>=3.0.0->open3d) (0.18.0)\n",
      "Requirement already satisfied: colorama in c:\\users\\or\\anaconda3\\lib\\site-packages (from ipython->jupyterlab==3.*,>=3.0.0->open3d) (0.4.4)\n",
      "Requirement already satisfied: decorator in c:\\users\\or\\anaconda3\\lib\\site-packages (from ipython->jupyterlab==3.*,>=3.0.0->open3d) (5.1.0)\n",
      "Requirement already satisfied: prompt-toolkit!=3.0.0,!=3.0.1,<3.1.0,>=2.0.0 in c:\\users\\or\\anaconda3\\lib\\site-packages (from ipython->jupyterlab==3.*,>=3.0.0->open3d) (3.0.20)\n",
      "Requirement already satisfied: backcall in c:\\users\\or\\anaconda3\\lib\\site-packages (from ipython->jupyterlab==3.*,>=3.0.0->open3d) (0.2.0)\n",
      "Requirement already satisfied: parso<0.9.0,>=0.8.0 in c:\\users\\or\\anaconda3\\lib\\site-packages (from jedi>=0.16->ipython->jupyterlab==3.*,>=3.0.0->open3d) (0.8.2)\n",
      "Requirement already satisfied: MarkupSafe>=0.23 in c:\\users\\or\\anaconda3\\lib\\site-packages (from jinja2>=2.1->jupyterlab==3.*,>=3.0.0->open3d) (1.1.1)\n",
      "Requirement already satisfied: pyzmq>=13 in c:\\users\\or\\anaconda3\\lib\\site-packages (from jupyter-client<8.0->ipykernel>=4.5.1->ipywidgets>=7.6.0->open3d) (22.2.1)\n",
      "Requirement already satisfied: python-dateutil>=2.1 in c:\\users\\or\\anaconda3\\lib\\site-packages (from jupyter-client<8.0->ipykernel>=4.5.1->ipywidgets>=7.6.0->open3d) (2.8.2)\n",
      "Requirement already satisfied: pywin32>=1.0 in c:\\users\\or\\anaconda3\\lib\\site-packages (from jupyter-core->jupyterlab==3.*,>=3.0.0->open3d) (228)\n",
      "Collecting deprecation\n",
      "  Using cached deprecation-2.1.0-py2.py3-none-any.whl (11 kB)\n",
      "Collecting tomlkit\n",
      "  Using cached tomlkit-0.8.0-py3-none-any.whl (33 kB)\n",
      "Requirement already satisfied: anyio>=2.0.2 in c:\\users\\or\\anaconda3\\lib\\site-packages (from jupyter-server~=1.4->jupyterlab==3.*,>=3.0.0->open3d) (2.2.0)\n",
      "Requirement already satisfied: nbconvert in c:\\users\\or\\anaconda3\\lib\\site-packages (from jupyter-server~=1.4->jupyterlab==3.*,>=3.0.0->open3d) (6.1.0)\n",
      "Requirement already satisfied: terminado>=0.8.3 in c:\\users\\or\\anaconda3\\lib\\site-packages (from jupyter-server~=1.4->jupyterlab==3.*,>=3.0.0->open3d) (0.9.4)\n",
      "Requirement already satisfied: Send2Trash in c:\\users\\or\\anaconda3\\lib\\site-packages (from jupyter-server~=1.4->jupyterlab==3.*,>=3.0.0->open3d) (1.8.0)\n",
      "Requirement already satisfied: prometheus-client in c:\\users\\or\\anaconda3\\lib\\site-packages (from jupyter-server~=1.4->jupyterlab==3.*,>=3.0.0->open3d) (0.11.0)\n",
      "Requirement already satisfied: sniffio>=1.1 in c:\\users\\or\\anaconda3\\lib\\site-packages (from anyio>=2.0.2->jupyter-server~=1.4->jupyterlab==3.*,>=3.0.0->open3d) (1.2.0)\n",
      "Requirement already satisfied: idna>=2.8 in c:\\users\\or\\anaconda3\\lib\\site-packages (from anyio>=2.0.2->jupyter-server~=1.4->jupyterlab==3.*,>=3.0.0->open3d) (3.2)\n",
      "Requirement already satisfied: requests in c:\\users\\or\\anaconda3\\lib\\site-packages (from jupyterlab-server~=2.3->jupyterlab==3.*,>=3.0.0->open3d) (2.26.0)\n",
      "Requirement already satisfied: entrypoints>=0.2.2 in c:\\users\\or\\anaconda3\\lib\\site-packages (from jupyterlab-server~=2.3->jupyterlab==3.*,>=3.0.0->open3d) (0.3)\n",
      "Requirement already satisfied: babel in c:\\users\\or\\anaconda3\\lib\\site-packages (from jupyterlab-server~=2.3->jupyterlab==3.*,>=3.0.0->open3d) (2.9.1)\n",
      "Requirement already satisfied: json5 in c:\\users\\or\\anaconda3\\lib\\site-packages (from jupyterlab-server~=2.3->jupyterlab==3.*,>=3.0.0->open3d) (0.9.6)\n",
      "Requirement already satisfied: jsonschema>=3.0.1 in c:\\users\\or\\anaconda3\\lib\\site-packages (from jupyterlab-server~=2.3->jupyterlab==3.*,>=3.0.0->open3d) (3.2.0)\n",
      "Requirement already satisfied: attrs>=17.4.0 in c:\\users\\or\\anaconda3\\lib\\site-packages (from jsonschema>=3.0.1->jupyterlab-server~=2.3->jupyterlab==3.*,>=3.0.0->open3d) (21.2.0)\n",
      "Requirement already satisfied: six>=1.11.0 in c:\\users\\or\\anaconda3\\lib\\site-packages (from jsonschema>=3.0.1->jupyterlab-server~=2.3->jupyterlab==3.*,>=3.0.0->open3d) (1.16.0)\n",
      "Requirement already satisfied: pyrsistent>=0.14.0 in c:\\users\\or\\anaconda3\\lib\\site-packages (from jsonschema>=3.0.1->jupyterlab-server~=2.3->jupyterlab==3.*,>=3.0.0->open3d) (0.18.0)\n",
      "Requirement already satisfied: notebook<7 in c:\\users\\or\\anaconda3\\lib\\site-packages (from nbclassic~=0.2->jupyterlab==3.*,>=3.0.0->open3d) (6.4.5)\n",
      "Requirement already satisfied: argon2-cffi in c:\\users\\or\\anaconda3\\lib\\site-packages (from notebook<7->nbclassic~=0.2->jupyterlab==3.*,>=3.0.0->open3d) (20.1.0)\n",
      "Requirement already satisfied: wcwidth in c:\\users\\or\\anaconda3\\lib\\site-packages (from prompt-toolkit!=3.0.0,!=3.0.1,<3.1.0,>=2.0.0->ipython->jupyterlab==3.*,>=3.0.0->open3d) (0.2.5)\n",
      "Requirement already satisfied: pywinpty>=0.5 in c:\\users\\or\\anaconda3\\lib\\site-packages (from terminado>=0.8.3->jupyter-server~=1.4->jupyterlab==3.*,>=3.0.0->open3d) (0.5.7)\n",
      "Requirement already satisfied: cffi>=1.0.0 in c:\\users\\or\\anaconda3\\lib\\site-packages (from argon2-cffi->notebook<7->nbclassic~=0.2->jupyterlab==3.*,>=3.0.0->open3d) (1.14.6)\n",
      "Requirement already satisfied: pycparser in c:\\users\\or\\anaconda3\\lib\\site-packages (from cffi>=1.0.0->argon2-cffi->notebook<7->nbclassic~=0.2->jupyterlab==3.*,>=3.0.0->open3d) (2.20)\n",
      "Requirement already satisfied: pytz>=2015.7 in c:\\users\\or\\anaconda3\\lib\\site-packages (from babel->jupyterlab-server~=2.3->jupyterlab==3.*,>=3.0.0->open3d) (2021.3)\n",
      "Requirement already satisfied: jupyterlab-pygments in c:\\users\\or\\anaconda3\\lib\\site-packages (from nbconvert->jupyter-server~=1.4->jupyterlab==3.*,>=3.0.0->open3d) (0.1.2)\n",
      "Requirement already satisfied: mistune<2,>=0.8.1 in c:\\users\\or\\anaconda3\\lib\\site-packages (from nbconvert->jupyter-server~=1.4->jupyterlab==3.*,>=3.0.0->open3d) (0.8.4)\n",
      "Requirement already satisfied: bleach in c:\\users\\or\\anaconda3\\lib\\site-packages (from nbconvert->jupyter-server~=1.4->jupyterlab==3.*,>=3.0.0->open3d) (4.0.0)\n",
      "Requirement already satisfied: defusedxml in c:\\users\\or\\anaconda3\\lib\\site-packages (from nbconvert->jupyter-server~=1.4->jupyterlab==3.*,>=3.0.0->open3d) (0.7.1)\n",
      "Requirement already satisfied: pandocfilters>=1.4.1 in c:\\users\\or\\anaconda3\\lib\\site-packages (from nbconvert->jupyter-server~=1.4->jupyterlab==3.*,>=3.0.0->open3d) (1.4.3)\n",
      "Requirement already satisfied: nbclient<0.6.0,>=0.5.0 in c:\\users\\or\\anaconda3\\lib\\site-packages (from nbconvert->jupyter-server~=1.4->jupyterlab==3.*,>=3.0.0->open3d) (0.5.3)\n",
      "Requirement already satisfied: testpath in c:\\users\\or\\anaconda3\\lib\\site-packages (from nbconvert->jupyter-server~=1.4->jupyterlab==3.*,>=3.0.0->open3d) (0.5.0)\n",
      "Requirement already satisfied: nest-asyncio in c:\\users\\or\\anaconda3\\lib\\site-packages (from nbclient<0.6.0,>=0.5.0->nbconvert->jupyter-server~=1.4->jupyterlab==3.*,>=3.0.0->open3d) (1.5.1)\n",
      "Requirement already satisfied: async-generator in c:\\users\\or\\anaconda3\\lib\\site-packages (from nbclient<0.6.0,>=0.5.0->nbconvert->jupyter-server~=1.4->jupyterlab==3.*,>=3.0.0->open3d) (1.10)\n",
      "Requirement already satisfied: webencodings in c:\\users\\or\\anaconda3\\lib\\site-packages (from bleach->nbconvert->jupyter-server~=1.4->jupyterlab==3.*,>=3.0.0->open3d) (0.5.1)\n",
      "Requirement already satisfied: pyparsing>=2.0.2 in c:\\users\\or\\anaconda3\\lib\\site-packages (from packaging->jupyterlab==3.*,>=3.0.0->open3d) (3.0.4)\n",
      "Requirement already satisfied: urllib3<1.27,>=1.21.1 in c:\\users\\or\\anaconda3\\lib\\site-packages (from requests->jupyterlab-server~=2.3->jupyterlab==3.*,>=3.0.0->open3d) (1.26.7)\n",
      "Requirement already satisfied: charset-normalizer~=2.0.0 in c:\\users\\or\\anaconda3\\lib\\site-packages (from requests->jupyterlab-server~=2.3->jupyterlab==3.*,>=3.0.0->open3d) (2.0.4)\n",
      "Requirement already satisfied: certifi>=2017.4.17 in c:\\users\\or\\anaconda3\\lib\\site-packages (from requests->jupyterlab-server~=2.3->jupyterlab==3.*,>=3.0.0->open3d) (2021.10.8)\n",
      "Installing collected packages: tomlkit, deprecation, jupyter-packaging, open3d\n",
      "Successfully installed deprecation-2.1.0 jupyter-packaging-0.11.1 open3d-0.14.1 tomlkit-0.8.0\n"
     ]
    }
   ],
   "source": [
    "!pip install open3d\n"
   ]
  },
  {
   "cell_type": "code",
   "execution_count": 5,
   "id": "1ce5a927",
   "metadata": {},
   "outputs": [
    {
     "name": "stdout",
     "output_type": "stream",
     "text": [
      "Jupyter environment detected. Enabling Open3D WebVisualizer.\n",
      "[Open3D INFO] WebRTC GUI backend enabled.\n",
      "[Open3D INFO] WebRTCWindowSystem: HTTP handshake server disabled.\n"
     ]
    }
   ],
   "source": [
    "import numpy as np\n",
    "import open3d as o3d\n"
   ]
  },
  {
   "cell_type": "code",
   "execution_count": null,
   "id": "61258526",
   "metadata": {},
   "outputs": [],
   "source": []
  },
  {
   "cell_type": "code",
   "execution_count": null,
   "id": "dacc5dab",
   "metadata": {},
   "outputs": [],
   "source": []
  },
  {
   "cell_type": "code",
   "execution_count": 6,
   "id": "a547bd1c",
   "metadata": {},
   "outputs": [
    {
     "ename": "RuntimeError",
     "evalue": "",
     "output_type": "error",
     "traceback": [
      "\u001b[1;31m---------------------------------------------------------------------------\u001b[0m",
      "\u001b[1;31mRuntimeError\u001b[0m                              Traceback (most recent call last)",
      "\u001b[1;32m~\\AppData\\Local\\Temp/ipykernel_3576/3002033234.py\u001b[0m in \u001b[0;36m<module>\u001b[1;34m\u001b[0m\n\u001b[0;32m      4\u001b[0m \u001b[1;33m\u001b[0m\u001b[0m\n\u001b[0;32m      5\u001b[0m \u001b[0mpcd\u001b[0m \u001b[1;33m=\u001b[0m \u001b[0mo3d\u001b[0m\u001b[1;33m.\u001b[0m\u001b[0mgeometry\u001b[0m\u001b[1;33m.\u001b[0m\u001b[0mPointCloud\u001b[0m\u001b[1;33m(\u001b[0m\u001b[1;33m)\u001b[0m\u001b[1;33m\u001b[0m\u001b[1;33m\u001b[0m\u001b[0m\n\u001b[1;32m----> 6\u001b[1;33m \u001b[0mpcd\u001b[0m\u001b[1;33m.\u001b[0m\u001b[0mpoints\u001b[0m \u001b[1;33m=\u001b[0m \u001b[0mo3d\u001b[0m\u001b[1;33m.\u001b[0m\u001b[0mutility\u001b[0m\u001b[1;33m.\u001b[0m\u001b[0mVector3dVector\u001b[0m\u001b[1;33m(\u001b[0m\u001b[0mtooth_test\u001b[0m\u001b[1;33m)\u001b[0m\u001b[1;33m\u001b[0m\u001b[1;33m\u001b[0m\u001b[0m\n\u001b[0m",
      "\u001b[1;31mRuntimeError\u001b[0m: "
     ]
    }
   ],
   "source": [
    "array_seg=np.loadtxt(\"exellent.txt\")\n",
    "array_in_order_of_labels = array_seg[array_seg[:, -1].argsort()]\n",
    "tooth_test = np.asarray(array_seg[190322:209334])\n",
    "\n",
    "pcd = o3d.geometry.PointCloud()\n",
    "pcd.points = o3d.utility.Vector3dVector(tooth_test)"
   ]
  },
  {
   "cell_type": "code",
   "execution_count": null,
   "id": "fa3122c7",
   "metadata": {},
   "outputs": [],
   "source": []
  }
 ],
 "metadata": {
  "kernelspec": {
   "display_name": "Python 3 (ipykernel)",
   "language": "python",
   "name": "python3"
  },
  "language_info": {
   "codemirror_mode": {
    "name": "ipython",
    "version": 3
   },
   "file_extension": ".py",
   "mimetype": "text/x-python",
   "name": "python",
   "nbconvert_exporter": "python",
   "pygments_lexer": "ipython3",
   "version": "3.9.7"
  }
 },
 "nbformat": 4,
 "nbformat_minor": 5
}
